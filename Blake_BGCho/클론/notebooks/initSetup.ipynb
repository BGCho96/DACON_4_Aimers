{
 "cells": [
  {
   "cell_type": "code",
   "execution_count": 2,
   "id": "71dde3e6",
   "metadata": {},
   "outputs": [
    {
     "name": "stdout",
     "output_type": "stream",
     "text": [
      "\n",
      "Found https://ultralytics.com/images/bus.jpg locally at bus.jpg\n",
      "image 1/1 /Users/blakebgcho/Documents/GitHub/model-playground/notebooks/bus.jpg: 640x480 4 persons, 1 bus, 1 stop sign, 173.4ms\n",
      "Speed: 9.6ms preprocess, 173.4ms inference, 10.7ms postprocess per image at shape (1, 3, 640, 480)\n"
     ]
    },
    {
     "data": {
      "text/plain": [
       "'results_bus.jpg'"
      ]
     },
     "execution_count": 2,
     "metadata": {},
     "output_type": "execute_result"
    }
   ],
   "source": [
    "from ultralytics import YOLO\n",
    "\n",
    "# 사전 학습된 YOLOv8 모델 불러오기\n",
    "model = YOLO(\"yolov8n.pt\")  # 가장 가벼운 모델\n",
    "\n",
    "# 추론용 이미지 입력 (로컬 또는 URL)\n",
    "results = model(\"https://ultralytics.com/images/bus.jpg\")\n",
    "\n",
    "# 결과 시각화 (창이 뜸)\n",
    "results[0].show()\n",
    "\n",
    "# 결과 저장 (현재 폴더에 자동 저장됨)\n",
    "results[0].save()"
   ]
  },
  {
   "cell_type": "code",
   "execution_count": null,
   "id": "4e49fd5f",
   "metadata": {},
   "outputs": [],
   "source": []
  }
 ],
 "metadata": {
  "kernelspec": {
   "display_name": "model-playground-mac",
   "language": "python",
   "name": "python3"
  },
  "language_info": {
   "codemirror_mode": {
    "name": "ipython",
    "version": 3
   },
   "file_extension": ".py",
   "mimetype": "text/x-python",
   "name": "python",
   "nbconvert_exporter": "python",
   "pygments_lexer": "ipython3",
   "version": "3.10.18"
  }
 },
 "nbformat": 4,
 "nbformat_minor": 5
}
