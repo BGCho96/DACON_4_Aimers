{
 "cells": [
  {
   "cell_type": "markdown",
   "metadata": {
    "pbl_cell_type": "markdown",
    "step_id": 15028,
    "step_number": 0
   },
   "source": [
    "### Import & Data Load"
   ]
  },
  {
   "cell_type": "code",
   "execution_count": 129,
   "metadata": {
    "pbl_cell_type": "code",
    "step_id": 15028,
    "step_number": 0
   },
   "outputs": [
    {
     "data": {
      "text/plain": [
       "True"
      ]
     },
     "execution_count": 129,
     "metadata": {},
     "output_type": "execute_result"
    }
   ],
   "source": [
    "import numpy as np\n",
    "import pandas as pd\n",
    "from lightgbm import LGBMRegressor\n",
    "from sklearn.preprocessing import LabelEncoder\n",
    "import wandb\n",
    "wandb.login()"
   ]
  },
  {
   "cell_type": "code",
   "execution_count": 130,
   "metadata": {
    "pbl_cell_type": "code",
    "step_id": 15028,
    "step_number": 0
   },
   "outputs": [],
   "source": [
    "csv_path = \"../datasets/DACON_Stress/\"  # 예: \"data/train.csv\" 또는 \"hand_data.csv\"\n",
    "\n",
    "train = pd.read_csv(csv_path+'train.csv')\n",
    "test = pd.read_csv(csv_path+'test.csv')"
   ]
  },
  {
   "cell_type": "code",
   "execution_count": 131,
   "metadata": {
    "pbl_cell_type": "code",
    "step_id": 15028,
    "step_number": 0
   },
   "outputs": [
    {
     "data": {
      "text/html": [
       "<div>\n",
       "<style scoped>\n",
       "    .dataframe tbody tr th:only-of-type {\n",
       "        vertical-align: middle;\n",
       "    }\n",
       "\n",
       "    .dataframe tbody tr th {\n",
       "        vertical-align: top;\n",
       "    }\n",
       "\n",
       "    .dataframe thead th {\n",
       "        text-align: right;\n",
       "    }\n",
       "</style>\n",
       "<table border=\"1\" class=\"dataframe\">\n",
       "  <thead>\n",
       "    <tr style=\"text-align: right;\">\n",
       "      <th></th>\n",
       "      <th>ID</th>\n",
       "      <th>gender</th>\n",
       "      <th>age</th>\n",
       "      <th>height</th>\n",
       "      <th>weight</th>\n",
       "      <th>cholesterol</th>\n",
       "      <th>systolic_blood_pressure</th>\n",
       "      <th>diastolic_blood_pressure</th>\n",
       "      <th>glucose</th>\n",
       "      <th>bone_density</th>\n",
       "      <th>activity</th>\n",
       "      <th>smoke_status</th>\n",
       "      <th>medical_history</th>\n",
       "      <th>family_medical_history</th>\n",
       "      <th>sleep_pattern</th>\n",
       "      <th>edu_level</th>\n",
       "      <th>mean_working</th>\n",
       "    </tr>\n",
       "  </thead>\n",
       "  <tbody>\n",
       "    <tr>\n",
       "      <th>0</th>\n",
       "      <td>TEST_0000</td>\n",
       "      <td>F</td>\n",
       "      <td>72</td>\n",
       "      <td>161.95</td>\n",
       "      <td>77.66</td>\n",
       "      <td>312.36</td>\n",
       "      <td>137</td>\n",
       "      <td>112</td>\n",
       "      <td>131.16</td>\n",
       "      <td>0.51</td>\n",
       "      <td>moderate</td>\n",
       "      <td>current-smoker</td>\n",
       "      <td>high blood pressure</td>\n",
       "      <td>heart disease</td>\n",
       "      <td>oversleeping</td>\n",
       "      <td>graduate degree</td>\n",
       "      <td>NaN</td>\n",
       "    </tr>\n",
       "    <tr>\n",
       "      <th>1</th>\n",
       "      <td>TEST_0001</td>\n",
       "      <td>F</td>\n",
       "      <td>84</td>\n",
       "      <td>152.35</td>\n",
       "      <td>58.70</td>\n",
       "      <td>269.54</td>\n",
       "      <td>162</td>\n",
       "      <td>95</td>\n",
       "      <td>129.36</td>\n",
       "      <td>0.51</td>\n",
       "      <td>intense</td>\n",
       "      <td>current-smoker</td>\n",
       "      <td>NaN</td>\n",
       "      <td>NaN</td>\n",
       "      <td>normal</td>\n",
       "      <td>graduate degree</td>\n",
       "      <td>NaN</td>\n",
       "    </tr>\n",
       "    <tr>\n",
       "      <th>2</th>\n",
       "      <td>TEST_0002</td>\n",
       "      <td>F</td>\n",
       "      <td>45</td>\n",
       "      <td>164.09</td>\n",
       "      <td>76.71</td>\n",
       "      <td>209.08</td>\n",
       "      <td>146</td>\n",
       "      <td>91</td>\n",
       "      <td>169.21</td>\n",
       "      <td>1.13</td>\n",
       "      <td>light</td>\n",
       "      <td>ex-smoker</td>\n",
       "      <td>diabetes</td>\n",
       "      <td>heart disease</td>\n",
       "      <td>sleep difficulty</td>\n",
       "      <td>bachelors degree</td>\n",
       "      <td>6.0</td>\n",
       "    </tr>\n",
       "    <tr>\n",
       "      <th>3</th>\n",
       "      <td>TEST_0003</td>\n",
       "      <td>M</td>\n",
       "      <td>58</td>\n",
       "      <td>165.06</td>\n",
       "      <td>76.34</td>\n",
       "      <td>246.52</td>\n",
       "      <td>146</td>\n",
       "      <td>98</td>\n",
       "      <td>133.78</td>\n",
       "      <td>0.52</td>\n",
       "      <td>light</td>\n",
       "      <td>current-smoker</td>\n",
       "      <td>heart disease</td>\n",
       "      <td>heart disease</td>\n",
       "      <td>sleep difficulty</td>\n",
       "      <td>high school diploma</td>\n",
       "      <td>10.0</td>\n",
       "    </tr>\n",
       "    <tr>\n",
       "      <th>4</th>\n",
       "      <td>TEST_0004</td>\n",
       "      <td>F</td>\n",
       "      <td>35</td>\n",
       "      <td>158.17</td>\n",
       "      <td>65.60</td>\n",
       "      <td>181.24</td>\n",
       "      <td>142</td>\n",
       "      <td>80</td>\n",
       "      <td>73.93</td>\n",
       "      <td>1.42</td>\n",
       "      <td>moderate</td>\n",
       "      <td>ex-smoker</td>\n",
       "      <td>diabetes</td>\n",
       "      <td>heart disease</td>\n",
       "      <td>oversleeping</td>\n",
       "      <td>NaN</td>\n",
       "      <td>7.0</td>\n",
       "    </tr>\n",
       "  </tbody>\n",
       "</table>\n",
       "</div>"
      ],
      "text/plain": [
       "          ID gender  age  height  weight  cholesterol  \\\n",
       "0  TEST_0000      F   72  161.95   77.66       312.36   \n",
       "1  TEST_0001      F   84  152.35   58.70       269.54   \n",
       "2  TEST_0002      F   45  164.09   76.71       209.08   \n",
       "3  TEST_0003      M   58  165.06   76.34       246.52   \n",
       "4  TEST_0004      F   35  158.17   65.60       181.24   \n",
       "\n",
       "   systolic_blood_pressure  diastolic_blood_pressure  glucose  bone_density  \\\n",
       "0                      137                       112   131.16          0.51   \n",
       "1                      162                        95   129.36          0.51   \n",
       "2                      146                        91   169.21          1.13   \n",
       "3                      146                        98   133.78          0.52   \n",
       "4                      142                        80    73.93          1.42   \n",
       "\n",
       "   activity    smoke_status      medical_history family_medical_history  \\\n",
       "0  moderate  current-smoker  high blood pressure          heart disease   \n",
       "1   intense  current-smoker                  NaN                    NaN   \n",
       "2     light       ex-smoker             diabetes          heart disease   \n",
       "3     light  current-smoker        heart disease          heart disease   \n",
       "4  moderate       ex-smoker             diabetes          heart disease   \n",
       "\n",
       "      sleep_pattern            edu_level  mean_working  \n",
       "0      oversleeping      graduate degree           NaN  \n",
       "1            normal      graduate degree           NaN  \n",
       "2  sleep difficulty     bachelors degree           6.0  \n",
       "3  sleep difficulty  high school diploma          10.0  \n",
       "4      oversleeping                  NaN           7.0  "
      ]
     },
     "execution_count": 131,
     "metadata": {},
     "output_type": "execute_result"
    }
   ],
   "source": [
    "test.head(5)"
   ]
  },
  {
   "cell_type": "code",
   "execution_count": 132,
   "metadata": {},
   "outputs": [],
   "source": [
    "from sklearn.preprocessing import StandardScaler\n",
    "\n",
    "def standardize_range_01_columns(df):\n",
    "    df = df.copy()\n",
    "    scaler = StandardScaler()\n",
    "    \n",
    "    # 숫자형 컬럼만 추출\n",
    "    numeric_cols = df.select_dtypes(include=['int64', 'float64']).columns\n",
    "    \n",
    "    # 0~1 범위로 구성된 컬럼만 필터링\n",
    "    target_cols = [\n",
    "        col for col in numeric_cols\n",
    "        if df[col].min() >= 0 and df[col].max() <= 1\n",
    "    ]\n",
    "    \n",
    "    # 표준화 수행 (예외 처리 포함)\n",
    "    if target_cols:\n",
    "        df[target_cols] = scaler.fit_transform(df[target_cols])\n",
    "    \n",
    "    return df\n",
    "stress_mean = train['stress_score'].mean()\n",
    "stress_std = train['stress_score'].std()\n",
    "# train = standardize_range_01_columns(train)\n",
    "# test = standardize_range_01_columns(test)\n"
   ]
  },
  {
   "cell_type": "markdown",
   "metadata": {
    "pbl_cell_type": "markdown",
    "step_id": 15028,
    "step_number": 0
   },
   "source": [
    "### Check Data"
   ]
  },
  {
   "cell_type": "code",
   "execution_count": 133,
   "metadata": {
    "pbl_cell_type": "code",
    "step_id": 15028,
    "step_number": 0
   },
   "outputs": [
    {
     "data": {
      "text/plain": [
       "ID                             0\n",
       "gender                         0\n",
       "age                            0\n",
       "height                         0\n",
       "weight                         0\n",
       "cholesterol                    0\n",
       "systolic_blood_pressure        0\n",
       "diastolic_blood_pressure       0\n",
       "glucose                        0\n",
       "bone_density                   0\n",
       "activity                       0\n",
       "smoke_status                   0\n",
       "medical_history             1289\n",
       "family_medical_history      1486\n",
       "sleep_pattern                  0\n",
       "edu_level                    607\n",
       "mean_working                1032\n",
       "stress_score                   0\n",
       "dtype: int64"
      ]
     },
     "execution_count": 133,
     "metadata": {},
     "output_type": "execute_result"
    }
   ],
   "source": [
    "train.isnull().sum()"
   ]
  },
  {
   "cell_type": "code",
   "execution_count": 134,
   "metadata": {
    "pbl_cell_type": "code",
    "step_id": 15028,
    "step_number": 0
   },
   "outputs": [
    {
     "data": {
      "text/plain": [
       "Index(['medical_history', 'family_medical_history', 'edu_level',\n",
       "       'mean_working'],\n",
       "      dtype='object')"
      ]
     },
     "execution_count": 134,
     "metadata": {},
     "output_type": "execute_result"
    }
   ],
   "source": [
    "# 결측값 있는 칼럼(column) 확인\n",
    "missing_columns_train = train.columns[train.isnull().sum() > 0]\n",
    "missing_columns_train"
   ]
  },
  {
   "cell_type": "code",
   "execution_count": 135,
   "metadata": {
    "pbl_cell_type": "code",
    "step_id": 15028,
    "step_number": 0
   },
   "outputs": [
    {
     "name": "stdout",
     "output_type": "stream",
     "text": [
      "<class 'pandas.core.frame.DataFrame'>\n",
      "RangeIndex: 3000 entries, 0 to 2999\n",
      "Data columns (total 4 columns):\n",
      " #   Column                  Non-Null Count  Dtype  \n",
      "---  ------                  --------------  -----  \n",
      " 0   medical_history         1711 non-null   object \n",
      " 1   family_medical_history  1514 non-null   object \n",
      " 2   edu_level               2393 non-null   object \n",
      " 3   mean_working            1968 non-null   float64\n",
      "dtypes: float64(1), object(3)\n",
      "memory usage: 93.9+ KB\n"
     ]
    }
   ],
   "source": [
    "train[missing_columns_train].info()"
   ]
  },
  {
   "cell_type": "code",
   "execution_count": 136,
   "metadata": {
    "pbl_cell_type": "code",
    "step_id": 15028,
    "step_number": 0
   },
   "outputs": [
    {
     "name": "stdout",
     "output_type": "stream",
     "text": [
      "결측값이 있는 범주형 변수: ['medical_history', 'family_medical_history', 'edu_level']\n",
      "결측값이 있는 수치형 변수: ['mean_working']\n"
     ]
    }
   ],
   "source": [
    "categorical_na_cols = []\n",
    "numerical_na_cols = []\n",
    "\n",
    "# 결측값이 있는 각 칼럼에 대해 데이터 타입 확인\n",
    "for col in missing_columns_train:\n",
    "    # 해당 칼럼이 범주형(object 또는 category)인지 확인\n",
    "    if col in train.select_dtypes(include=['object', 'category']).columns:\n",
    "        categorical_na_cols.append(col)\n",
    "    # 해당 칼럼이 수치형(int 또는 float)인지 확인\n",
    "    elif col in train.select_dtypes(include=['int', 'float']).columns:\n",
    "        numerical_na_cols.append(col)\n",
    "\n",
    "print(\"결측값이 있는 범주형 변수:\", categorical_na_cols)\n",
    "print(\"결측값이 있는 수치형 변수:\", numerical_na_cols)"
   ]
  },
  {
   "cell_type": "markdown",
   "metadata": {
    "pbl_cell_type": "markdown",
    "step_id": 15028,
    "step_number": 0
   },
   "source": [
    "### Data Preprocessing"
   ]
  },
  {
   "cell_type": "code",
   "execution_count": 137,
   "metadata": {
    "pbl_cell_type": "code",
    "step_id": 15028,
    "step_number": 0
   },
   "outputs": [],
   "source": [
    "# 범주형 변수의 결측값을 최빈값으로 대체\n",
    "for col in categorical_na_cols:\n",
    "    # 학습 데이터에서 최빈값 계산\n",
    "    most_frequent = train[col].mode()[0]\n",
    "    \n",
    "    # 학습 데이터와 테스트 데이터 모두 해당 칼럼의 최빈값으로 대체\n",
    "    train[col] = train[col].fillna(most_frequent)\n",
    "    test[col] = test[col].fillna(most_frequent)"
   ]
  },
  {
   "cell_type": "code",
   "execution_count": 138,
   "metadata": {},
   "outputs": [],
   "source": [
    "train = train.drop(columns=['weight', 'height','bone_density'])"
   ]
  },
  {
   "cell_type": "code",
   "execution_count": 139,
   "metadata": {
    "pbl_cell_type": "code",
    "step_id": 15028,
    "step_number": 0
   },
   "outputs": [],
   "source": [
    "# mean_working에 대해 중앙값 대체\n",
    "median_value = train['mean_working'].median()\n",
    "\n",
    "train['mean_working'] = train['mean_working'].fillna(median_value)\n",
    "test['mean_working'] = test['mean_working'].fillna(median_value)"
   ]
  },
  {
   "cell_type": "code",
   "execution_count": 140,
   "metadata": {
    "pbl_cell_type": "code",
    "step_id": 15028,
    "step_number": 0
   },
   "outputs": [],
   "source": [
    "# Label Encoding 적용 열 - 범주형 데이터\n",
    "categorical_cols = train.select_dtypes(include='object').columns.drop('ID')\n",
    "\n",
    "for feature in categorical_cols:\n",
    "    le = LabelEncoder()\n",
    "    le = le.fit(train[feature])\n",
    "    train[feature] = le.transform(train[feature])\n",
    "    \n",
    "    for label in np.unique(test[feature]):\n",
    "        if label not in le.classes_:\n",
    "            le.classes_ = np.append(le.classes_, label)\n",
    "    \n",
    "    test[feature] = le.transform(test[feature])"
   ]
  },
  {
   "cell_type": "code",
   "execution_count": 141,
   "metadata": {
    "pbl_cell_type": "code",
    "step_id": 15028,
    "step_number": 0
   },
   "outputs": [],
   "source": [
    "x_train = train.drop(['ID', 'stress_score'], axis = 1)\n",
    "y_train = train['stress_score']\n",
    "\n",
    "test = test.drop(['ID','height', 'weight','bone_density'], axis = 1)"
   ]
  },
  {
   "cell_type": "code",
   "execution_count": 142,
   "metadata": {},
   "outputs": [
    {
     "data": {
      "text/html": [
       "<div>\n",
       "<style scoped>\n",
       "    .dataframe tbody tr th:only-of-type {\n",
       "        vertical-align: middle;\n",
       "    }\n",
       "\n",
       "    .dataframe tbody tr th {\n",
       "        vertical-align: top;\n",
       "    }\n",
       "\n",
       "    .dataframe thead th {\n",
       "        text-align: right;\n",
       "    }\n",
       "</style>\n",
       "<table border=\"1\" class=\"dataframe\">\n",
       "  <thead>\n",
       "    <tr style=\"text-align: right;\">\n",
       "      <th></th>\n",
       "      <th>gender</th>\n",
       "      <th>age</th>\n",
       "      <th>cholesterol</th>\n",
       "      <th>systolic_blood_pressure</th>\n",
       "      <th>diastolic_blood_pressure</th>\n",
       "      <th>glucose</th>\n",
       "      <th>activity</th>\n",
       "      <th>smoke_status</th>\n",
       "      <th>medical_history</th>\n",
       "      <th>family_medical_history</th>\n",
       "      <th>sleep_pattern</th>\n",
       "      <th>edu_level</th>\n",
       "      <th>mean_working</th>\n",
       "    </tr>\n",
       "  </thead>\n",
       "  <tbody>\n",
       "    <tr>\n",
       "      <th>0</th>\n",
       "      <td>0</td>\n",
       "      <td>72</td>\n",
       "      <td>312.36</td>\n",
       "      <td>137</td>\n",
       "      <td>112</td>\n",
       "      <td>131.16</td>\n",
       "      <td>2</td>\n",
       "      <td>0</td>\n",
       "      <td>2</td>\n",
       "      <td>1</td>\n",
       "      <td>1</td>\n",
       "      <td>1</td>\n",
       "      <td>9.0</td>\n",
       "    </tr>\n",
       "    <tr>\n",
       "      <th>1</th>\n",
       "      <td>0</td>\n",
       "      <td>84</td>\n",
       "      <td>269.54</td>\n",
       "      <td>162</td>\n",
       "      <td>95</td>\n",
       "      <td>129.36</td>\n",
       "      <td>0</td>\n",
       "      <td>0</td>\n",
       "      <td>2</td>\n",
       "      <td>0</td>\n",
       "      <td>0</td>\n",
       "      <td>1</td>\n",
       "      <td>9.0</td>\n",
       "    </tr>\n",
       "    <tr>\n",
       "      <th>2</th>\n",
       "      <td>0</td>\n",
       "      <td>45</td>\n",
       "      <td>209.08</td>\n",
       "      <td>146</td>\n",
       "      <td>91</td>\n",
       "      <td>169.21</td>\n",
       "      <td>1</td>\n",
       "      <td>1</td>\n",
       "      <td>0</td>\n",
       "      <td>1</td>\n",
       "      <td>2</td>\n",
       "      <td>0</td>\n",
       "      <td>6.0</td>\n",
       "    </tr>\n",
       "    <tr>\n",
       "      <th>3</th>\n",
       "      <td>1</td>\n",
       "      <td>58</td>\n",
       "      <td>246.52</td>\n",
       "      <td>146</td>\n",
       "      <td>98</td>\n",
       "      <td>133.78</td>\n",
       "      <td>1</td>\n",
       "      <td>0</td>\n",
       "      <td>1</td>\n",
       "      <td>1</td>\n",
       "      <td>2</td>\n",
       "      <td>2</td>\n",
       "      <td>10.0</td>\n",
       "    </tr>\n",
       "    <tr>\n",
       "      <th>4</th>\n",
       "      <td>0</td>\n",
       "      <td>35</td>\n",
       "      <td>181.24</td>\n",
       "      <td>142</td>\n",
       "      <td>80</td>\n",
       "      <td>73.93</td>\n",
       "      <td>2</td>\n",
       "      <td>1</td>\n",
       "      <td>0</td>\n",
       "      <td>1</td>\n",
       "      <td>1</td>\n",
       "      <td>2</td>\n",
       "      <td>7.0</td>\n",
       "    </tr>\n",
       "    <tr>\n",
       "      <th>...</th>\n",
       "      <td>...</td>\n",
       "      <td>...</td>\n",
       "      <td>...</td>\n",
       "      <td>...</td>\n",
       "      <td>...</td>\n",
       "      <td>...</td>\n",
       "      <td>...</td>\n",
       "      <td>...</td>\n",
       "      <td>...</td>\n",
       "      <td>...</td>\n",
       "      <td>...</td>\n",
       "      <td>...</td>\n",
       "      <td>...</td>\n",
       "    </tr>\n",
       "    <tr>\n",
       "      <th>2995</th>\n",
       "      <td>1</td>\n",
       "      <td>75</td>\n",
       "      <td>239.68</td>\n",
       "      <td>152</td>\n",
       "      <td>103</td>\n",
       "      <td>114.46</td>\n",
       "      <td>2</td>\n",
       "      <td>0</td>\n",
       "      <td>0</td>\n",
       "      <td>0</td>\n",
       "      <td>1</td>\n",
       "      <td>1</td>\n",
       "      <td>9.0</td>\n",
       "    </tr>\n",
       "    <tr>\n",
       "      <th>2996</th>\n",
       "      <td>0</td>\n",
       "      <td>82</td>\n",
       "      <td>237.88</td>\n",
       "      <td>168</td>\n",
       "      <td>107</td>\n",
       "      <td>121.83</td>\n",
       "      <td>2</td>\n",
       "      <td>0</td>\n",
       "      <td>2</td>\n",
       "      <td>0</td>\n",
       "      <td>2</td>\n",
       "      <td>2</td>\n",
       "      <td>9.0</td>\n",
       "    </tr>\n",
       "    <tr>\n",
       "      <th>2997</th>\n",
       "      <td>1</td>\n",
       "      <td>23</td>\n",
       "      <td>194.43</td>\n",
       "      <td>117</td>\n",
       "      <td>87</td>\n",
       "      <td>117.15</td>\n",
       "      <td>1</td>\n",
       "      <td>2</td>\n",
       "      <td>2</td>\n",
       "      <td>0</td>\n",
       "      <td>2</td>\n",
       "      <td>2</td>\n",
       "      <td>7.0</td>\n",
       "    </tr>\n",
       "    <tr>\n",
       "      <th>2998</th>\n",
       "      <td>0</td>\n",
       "      <td>58</td>\n",
       "      <td>233.43</td>\n",
       "      <td>151</td>\n",
       "      <td>108</td>\n",
       "      <td>133.83</td>\n",
       "      <td>2</td>\n",
       "      <td>0</td>\n",
       "      <td>1</td>\n",
       "      <td>2</td>\n",
       "      <td>2</td>\n",
       "      <td>0</td>\n",
       "      <td>9.0</td>\n",
       "    </tr>\n",
       "    <tr>\n",
       "      <th>2999</th>\n",
       "      <td>0</td>\n",
       "      <td>55</td>\n",
       "      <td>261.78</td>\n",
       "      <td>138</td>\n",
       "      <td>87</td>\n",
       "      <td>128.71</td>\n",
       "      <td>1</td>\n",
       "      <td>1</td>\n",
       "      <td>2</td>\n",
       "      <td>0</td>\n",
       "      <td>0</td>\n",
       "      <td>2</td>\n",
       "      <td>9.0</td>\n",
       "    </tr>\n",
       "  </tbody>\n",
       "</table>\n",
       "<p>3000 rows × 13 columns</p>\n",
       "</div>"
      ],
      "text/plain": [
       "      gender  age  cholesterol  systolic_blood_pressure  \\\n",
       "0          0   72       312.36                      137   \n",
       "1          0   84       269.54                      162   \n",
       "2          0   45       209.08                      146   \n",
       "3          1   58       246.52                      146   \n",
       "4          0   35       181.24                      142   \n",
       "...      ...  ...          ...                      ...   \n",
       "2995       1   75       239.68                      152   \n",
       "2996       0   82       237.88                      168   \n",
       "2997       1   23       194.43                      117   \n",
       "2998       0   58       233.43                      151   \n",
       "2999       0   55       261.78                      138   \n",
       "\n",
       "      diastolic_blood_pressure  glucose  activity  smoke_status  \\\n",
       "0                          112   131.16         2             0   \n",
       "1                           95   129.36         0             0   \n",
       "2                           91   169.21         1             1   \n",
       "3                           98   133.78         1             0   \n",
       "4                           80    73.93         2             1   \n",
       "...                        ...      ...       ...           ...   \n",
       "2995                       103   114.46         2             0   \n",
       "2996                       107   121.83         2             0   \n",
       "2997                        87   117.15         1             2   \n",
       "2998                       108   133.83         2             0   \n",
       "2999                        87   128.71         1             1   \n",
       "\n",
       "      medical_history  family_medical_history  sleep_pattern  edu_level  \\\n",
       "0                   2                       1              1          1   \n",
       "1                   2                       0              0          1   \n",
       "2                   0                       1              2          0   \n",
       "3                   1                       1              2          2   \n",
       "4                   0                       1              1          2   \n",
       "...               ...                     ...            ...        ...   \n",
       "2995                0                       0              1          1   \n",
       "2996                2                       0              2          2   \n",
       "2997                2                       0              2          2   \n",
       "2998                1                       2              2          0   \n",
       "2999                2                       0              0          2   \n",
       "\n",
       "      mean_working  \n",
       "0              9.0  \n",
       "1              9.0  \n",
       "2              6.0  \n",
       "3             10.0  \n",
       "4              7.0  \n",
       "...            ...  \n",
       "2995           9.0  \n",
       "2996           9.0  \n",
       "2997           7.0  \n",
       "2998           9.0  \n",
       "2999           9.0  \n",
       "\n",
       "[3000 rows x 13 columns]"
      ]
     },
     "execution_count": 142,
     "metadata": {},
     "output_type": "execute_result"
    }
   ],
   "source": [
    "test"
   ]
  },
  {
   "cell_type": "markdown",
   "metadata": {
    "pbl_cell_type": "markdown",
    "step_id": 15028,
    "step_number": 1,
    "tags": []
   },
   "source": [
    "### Train / Predict"
   ]
  },
  {
   "cell_type": "code",
   "execution_count": 143,
   "metadata": {
    "pbl_cell_type": "code",
    "step_id": 15028,
    "step_number": 1,
    "tags": []
   },
   "outputs": [
    {
     "data": {
      "text/html": [
       "Tracking run with wandb version 0.21.0"
      ],
      "text/plain": [
       "<IPython.core.display.HTML object>"
      ]
     },
     "metadata": {},
     "output_type": "display_data"
    },
    {
     "data": {
      "text/html": [
       "Run data is saved locally in <code>/Users/blakebgcho/Documents/GitHub/model-playground/notebooks/wandb/run-20250714_144545-emm4uvt3</code>"
      ],
      "text/plain": [
       "<IPython.core.display.HTML object>"
      ]
     },
     "metadata": {},
     "output_type": "display_data"
    },
    {
     "data": {
      "text/html": [
       "Syncing run <strong><a href='https://wandb.ai/bgcho96/lgbm-tracking/runs/emm4uvt3' target=\"_blank\">without-WHB-5000</a></strong> to <a href='https://wandb.ai/bgcho96/lgbm-tracking' target=\"_blank\">Weights & Biases</a> (<a href='https://wandb.me/developer-guide' target=\"_blank\">docs</a>)<br>"
      ],
      "text/plain": [
       "<IPython.core.display.HTML object>"
      ]
     },
     "metadata": {},
     "output_type": "display_data"
    },
    {
     "data": {
      "text/html": [
       " View project at <a href='https://wandb.ai/bgcho96/lgbm-tracking' target=\"_blank\">https://wandb.ai/bgcho96/lgbm-tracking</a>"
      ],
      "text/plain": [
       "<IPython.core.display.HTML object>"
      ]
     },
     "metadata": {},
     "output_type": "display_data"
    },
    {
     "data": {
      "text/html": [
       " View run at <a href='https://wandb.ai/bgcho96/lgbm-tracking/runs/emm4uvt3' target=\"_blank\">https://wandb.ai/bgcho96/lgbm-tracking/runs/emm4uvt3</a>"
      ],
      "text/plain": [
       "<IPython.core.display.HTML object>"
      ]
     },
     "metadata": {},
     "output_type": "display_data"
    },
    {
     "name": "stdout",
     "output_type": "stream",
     "text": [
      "[LightGBM] [Info] Auto-choosing row-wise multi-threading, the overhead of testing was 0.000071 seconds.\n",
      "You can set `force_row_wise=true` to remove the overhead.\n",
      "And if memory is not enough, you can set `force_col_wise=true`.\n",
      "[LightGBM] [Info] Total Bins 760\n",
      "[LightGBM] [Info] Number of data points in the train set: 3000, number of used features: 13\n",
      "[LightGBM] [Info] Start training from score 0.482130\n"
     ]
    },
    {
     "data": {
      "text/html": [],
      "text/plain": [
       "<IPython.core.display.HTML object>"
      ]
     },
     "metadata": {},
     "output_type": "display_data"
    },
    {
     "data": {
      "text/html": [
       "<br>    <style><br>        .wandb-row {<br>            display: flex;<br>            flex-direction: row;<br>            flex-wrap: wrap;<br>            justify-content: flex-start;<br>            width: 100%;<br>        }<br>        .wandb-col {<br>            display: flex;<br>            flex-direction: column;<br>            flex-basis: 100%;<br>            flex: 1;<br>            padding: 10px;<br>        }<br>    </style><br><div class=\"wandb-row\"><div class=\"wandb-col\"><h3>Run history:</h3><br/><table class=\"wandb\"><tr><td>iteration</td><td>▁▁▁▂▂▂▂▂▂▂▃▃▃▃▃▄▄▄▄▅▅▅▅▅▅▆▆▆▆▆▆▆▆▇▇▇▇▇▇█</td></tr><tr><td>valid_0_l1</td><td>▁▁▃▄▆▇██████████████████████████████████</td></tr><tr><td>valid_0_l2</td><td>▁▁▃▃▄▅▇▇▇▇██████████████████████████████</td></tr><tr><td>valid_0_mape</td><td>▁▆▇▇▇███████████████████████████████████</td></tr><tr><td>valid_0_rmse</td><td>▁▆▆▇▇▇▇▇▇███████████████████████████████</td></tr></table><br/></div><div class=\"wandb-col\"><h3>Run summary:</h3><br/><table class=\"wandb\"><tr><td>iteration</td><td>4999</td></tr></table><br/></div></div>"
      ],
      "text/plain": [
       "<IPython.core.display.HTML object>"
      ]
     },
     "metadata": {},
     "output_type": "display_data"
    },
    {
     "data": {
      "text/html": [
       " View run <strong style=\"color:#cdcd00\">without-WHB-5000</strong> at: <a href='https://wandb.ai/bgcho96/lgbm-tracking/runs/emm4uvt3' target=\"_blank\">https://wandb.ai/bgcho96/lgbm-tracking/runs/emm4uvt3</a><br> View project at: <a href='https://wandb.ai/bgcho96/lgbm-tracking' target=\"_blank\">https://wandb.ai/bgcho96/lgbm-tracking</a><br>Synced 5 W&B file(s), 0 media file(s), 0 artifact file(s) and 0 other file(s)"
      ],
      "text/plain": [
       "<IPython.core.display.HTML object>"
      ]
     },
     "metadata": {},
     "output_type": "display_data"
    },
    {
     "data": {
      "text/html": [
       "Find logs at: <code>./wandb/run-20250714_144545-emm4uvt3/logs</code>"
      ],
      "text/plain": [
       "<IPython.core.display.HTML object>"
      ]
     },
     "metadata": {},
     "output_type": "display_data"
    }
   ],
   "source": [
    "import wandb\n",
    "from lightgbm import LGBMRegressor\n",
    "from sklearn.metrics import mean_squared_error\n",
    "from sklearn.model_selection import train_test_split\n",
    "wandb.init(project=\"lgbm-tracking\",name = 'without-WHB-5000')\n",
    "\n",
    "# 학습/검증 데이터 분리\n",
    "# x_train, x_val, y_train, y_val = train_test_split(X, y, test_size=0.2, random_state=42)\n",
    "\n",
    "model = LGBMRegressor(n_estimators=5000)\n",
    "\n",
    "# 훈련\n",
    "model.fit(\n",
    "    x_train, y_train,\n",
    "    eval_set=[(test, None)],\n",
    "    eval_metric=['rmse', 'l1', 'mape'],\n",
    "    callbacks=[wandb.lightgbm.wandb_callback()]\n",
    ")\n",
    "pred = model.predict(test)\n",
    "\n",
    "wandb.finish()"
   ]
  },
  {
   "cell_type": "markdown",
   "metadata": {
    "pbl_cell_type": "markdown",
    "step_id": 15028,
    "step_number": 1,
    "tags": []
   },
   "source": [
    "### Submission"
   ]
  },
  {
   "cell_type": "code",
   "execution_count": 144,
   "metadata": {
    "pbl_cell_type": "code",
    "step_id": 15028,
    "step_number": 1,
    "tags": []
   },
   "outputs": [],
   "source": [
    "submission = pd.read_csv(csv_path+'sample_submission.csv')"
   ]
  },
  {
   "cell_type": "code",
   "execution_count": 145,
   "metadata": {},
   "outputs": [
    {
     "data": {
      "text/html": [
       "<div>\n",
       "<style scoped>\n",
       "    .dataframe tbody tr th:only-of-type {\n",
       "        vertical-align: middle;\n",
       "    }\n",
       "\n",
       "    .dataframe tbody tr th {\n",
       "        vertical-align: top;\n",
       "    }\n",
       "\n",
       "    .dataframe thead th {\n",
       "        text-align: right;\n",
       "    }\n",
       "</style>\n",
       "<table border=\"1\" class=\"dataframe\">\n",
       "  <thead>\n",
       "    <tr style=\"text-align: right;\">\n",
       "      <th></th>\n",
       "      <th>ID</th>\n",
       "      <th>stress_score</th>\n",
       "    </tr>\n",
       "  </thead>\n",
       "  <tbody>\n",
       "    <tr>\n",
       "      <th>0</th>\n",
       "      <td>TEST_0000</td>\n",
       "      <td>0.504909</td>\n",
       "    </tr>\n",
       "    <tr>\n",
       "      <th>1</th>\n",
       "      <td>TEST_0001</td>\n",
       "      <td>0.876108</td>\n",
       "    </tr>\n",
       "    <tr>\n",
       "      <th>2</th>\n",
       "      <td>TEST_0002</td>\n",
       "      <td>0.342448</td>\n",
       "    </tr>\n",
       "    <tr>\n",
       "      <th>3</th>\n",
       "      <td>TEST_0003</td>\n",
       "      <td>0.424806</td>\n",
       "    </tr>\n",
       "    <tr>\n",
       "      <th>4</th>\n",
       "      <td>TEST_0004</td>\n",
       "      <td>0.509979</td>\n",
       "    </tr>\n",
       "  </tbody>\n",
       "</table>\n",
       "</div>"
      ],
      "text/plain": [
       "          ID  stress_score\n",
       "0  TEST_0000      0.504909\n",
       "1  TEST_0001      0.876108\n",
       "2  TEST_0002      0.342448\n",
       "3  TEST_0003      0.424806\n",
       "4  TEST_0004      0.509979"
      ]
     },
     "execution_count": 145,
     "metadata": {},
     "output_type": "execute_result"
    }
   ],
   "source": [
    "submission['stress_score'] = pred\n",
    "# submission['stress_score'] = submission['stress_score']*stress_std + stress_std\n",
    "submission.head()"
   ]
  },
  {
   "cell_type": "code",
   "execution_count": 100,
   "metadata": {},
   "outputs": [
    {
     "data": {
      "text/html": [
       "<div>\n",
       "<style scoped>\n",
       "    .dataframe tbody tr th:only-of-type {\n",
       "        vertical-align: middle;\n",
       "    }\n",
       "\n",
       "    .dataframe tbody tr th {\n",
       "        vertical-align: top;\n",
       "    }\n",
       "\n",
       "    .dataframe thead th {\n",
       "        text-align: right;\n",
       "    }\n",
       "</style>\n",
       "<table border=\"1\" class=\"dataframe\">\n",
       "  <thead>\n",
       "    <tr style=\"text-align: right;\">\n",
       "      <th></th>\n",
       "      <th>ID</th>\n",
       "      <th>stress_score</th>\n",
       "    </tr>\n",
       "  </thead>\n",
       "  <tbody>\n",
       "    <tr>\n",
       "      <th>0</th>\n",
       "      <td>TEST_0000</td>\n",
       "      <td>0.470718</td>\n",
       "    </tr>\n",
       "    <tr>\n",
       "      <th>1</th>\n",
       "      <td>TEST_0001</td>\n",
       "      <td>0.544434</td>\n",
       "    </tr>\n",
       "    <tr>\n",
       "      <th>2</th>\n",
       "      <td>TEST_0002</td>\n",
       "      <td>0.212051</td>\n",
       "    </tr>\n",
       "    <tr>\n",
       "      <th>3</th>\n",
       "      <td>TEST_0003</td>\n",
       "      <td>0.442751</td>\n",
       "    </tr>\n",
       "    <tr>\n",
       "      <th>4</th>\n",
       "      <td>TEST_0004</td>\n",
       "      <td>0.593840</td>\n",
       "    </tr>\n",
       "  </tbody>\n",
       "</table>\n",
       "</div>"
      ],
      "text/plain": [
       "          ID  stress_score\n",
       "0  TEST_0000      0.470718\n",
       "1  TEST_0001      0.544434\n",
       "2  TEST_0002      0.212051\n",
       "3  TEST_0003      0.442751\n",
       "4  TEST_0004      0.593840"
      ]
     },
     "execution_count": 100,
     "metadata": {},
     "output_type": "execute_result"
    }
   ],
   "source": [
    "submission['stress_score'] = pred\n",
    "submission.head()"
   ]
  },
  {
   "cell_type": "code",
   "execution_count": 17,
   "metadata": {
    "pbl_cell_type": "code",
    "step_id": 15028,
    "step_number": 1,
    "tags": []
   },
   "outputs": [
    {
     "data": {
      "text/html": [
       "<div>\n",
       "<style scoped>\n",
       "    .dataframe tbody tr th:only-of-type {\n",
       "        vertical-align: middle;\n",
       "    }\n",
       "\n",
       "    .dataframe tbody tr th {\n",
       "        vertical-align: top;\n",
       "    }\n",
       "\n",
       "    .dataframe thead th {\n",
       "        text-align: right;\n",
       "    }\n",
       "</style>\n",
       "<table border=\"1\" class=\"dataframe\">\n",
       "  <thead>\n",
       "    <tr style=\"text-align: right;\">\n",
       "      <th></th>\n",
       "      <th>ID</th>\n",
       "      <th>stress_score</th>\n",
       "    </tr>\n",
       "  </thead>\n",
       "  <tbody>\n",
       "    <tr>\n",
       "      <th>0</th>\n",
       "      <td>TEST_0000</td>\n",
       "      <td>0.412394</td>\n",
       "    </tr>\n",
       "    <tr>\n",
       "      <th>1</th>\n",
       "      <td>TEST_0001</td>\n",
       "      <td>0.689009</td>\n",
       "    </tr>\n",
       "    <tr>\n",
       "      <th>2</th>\n",
       "      <td>TEST_0002</td>\n",
       "      <td>0.183309</td>\n",
       "    </tr>\n",
       "    <tr>\n",
       "      <th>3</th>\n",
       "      <td>TEST_0003</td>\n",
       "      <td>0.522015</td>\n",
       "    </tr>\n",
       "    <tr>\n",
       "      <th>4</th>\n",
       "      <td>TEST_0004</td>\n",
       "      <td>0.572112</td>\n",
       "    </tr>\n",
       "  </tbody>\n",
       "</table>\n",
       "</div>"
      ],
      "text/plain": [
       "          ID  stress_score\n",
       "0  TEST_0000      0.412394\n",
       "1  TEST_0001      0.689009\n",
       "2  TEST_0002      0.183309\n",
       "3  TEST_0003      0.522015\n",
       "4  TEST_0004      0.572112"
      ]
     },
     "execution_count": 17,
     "metadata": {},
     "output_type": "execute_result"
    }
   ],
   "source": [
    "submission['stress_score'] = pred\n",
    "submission.head()"
   ]
  },
  {
   "cell_type": "code",
   "execution_count": 146,
   "metadata": {
    "pbl_cell_type": "code",
    "step_id": 15028,
    "step_number": 1,
    "tags": []
   },
   "outputs": [],
   "source": [
    "submission.to_csv('submit.csv', index=False)"
   ]
  },
  {
   "cell_type": "code",
   "execution_count": null,
   "metadata": {},
   "outputs": [],
   "source": []
  }
 ],
 "metadata": {
  "kernelspec": {
   "display_name": "model-playground-mac",
   "language": "python",
   "name": "python3"
  },
  "language_info": {
   "codemirror_mode": {
    "name": "ipython",
    "version": 3
   },
   "file_extension": ".py",
   "mimetype": "text/x-python",
   "name": "python",
   "nbconvert_exporter": "python",
   "pygments_lexer": "ipython3",
   "version": "3.10.18"
  }
 },
 "nbformat": 4,
 "nbformat_minor": 4
}
